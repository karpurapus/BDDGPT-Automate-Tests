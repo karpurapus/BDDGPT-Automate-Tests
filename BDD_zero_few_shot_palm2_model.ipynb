{
  "nbformat": 4,
  "nbformat_minor": 0,
  "metadata": {
    "colab": {
      "provenance": []
    },
    "kernelspec": {
      "name": "python3",
      "display_name": "Python 3"
    },
    "language_info": {
      "name": "python"
    }
  },
  "cells": [
    {
      "cell_type": "markdown",
      "source": [
        "### Install required packages"
      ],
      "metadata": {
        "id": "04NjatLwscwR"
      }
    },
    {
      "cell_type": "code",
      "source": [
        "!pip install google-generativeai"
      ],
      "metadata": {
        "id": "0Dg8cKNJjGpd"
      },
      "execution_count": null,
      "outputs": []
    },
    {
      "cell_type": "markdown",
      "source": [
        "### Import required libraries"
      ],
      "metadata": {
        "id": "TYgg-JVbtBzd"
      }
    },
    {
      "cell_type": "code",
      "execution_count": 2,
      "metadata": {
        "id": "KEqSYHhdQKW2"
      },
      "outputs": [],
      "source": [
        "import google.generativeai as palm\n",
        "import csv\n",
        "import time\n",
        "import pandas as pd\n",
        "from datetime import datetime\n",
        "import os\n",
        "from google.colab import userdata\n",
        "import json"
      ]
    },
    {
      "cell_type": "markdown",
      "source": [
        "###Set the API KEY using Google colab user data option"
      ],
      "metadata": {
        "id": "ou7MBK-Bt7ZT"
      }
    },
    {
      "cell_type": "code",
      "source": [
        "palm_access = userdata.get('palm')\n",
        "os.environ['GOOGLE_API_KEY'] = palm_access"
      ],
      "metadata": {
        "id": "qRZ-Tna3t6J-"
      },
      "execution_count": 3,
      "outputs": []
    },
    {
      "cell_type": "markdown",
      "source": [
        "###Read the configurations"
      ],
      "metadata": {
        "id": "nAnSXNlxvJjQ"
      }
    },
    {
      "cell_type": "code",
      "source": [
        "json_file_path = \"/content/drive/MyDrive/Colab Notebooks/config.json\"\n",
        "with open(json_file_path, \"r\") as file:\n",
        "    configuration = json.load(file)"
      ],
      "metadata": {
        "id": "LNt0h_CfvE_-"
      },
      "execution_count": 4,
      "outputs": []
    },
    {
      "cell_type": "markdown",
      "source": [
        "### Load the user story descriptions to data frame"
      ],
      "metadata": {
        "id": "afxnSFLrvSvK"
      }
    },
    {
      "cell_type": "code",
      "source": [
        "input_csv_path = configuration['input_csv_path']\n",
        "# Read the complete CSV file as a pandas DataFrame\n",
        "data_frame = pd.read_csv(input_csv_path)\n"
      ],
      "metadata": {
        "id": "Lgsn44DHvSEJ"
      },
      "execution_count": 5,
      "outputs": []
    },
    {
      "cell_type": "markdown",
      "source": [
        "## STEPS\n",
        "### 1.   Read each user story description\n",
        "### 2.   Set the model [chat-bison-01] and model parameters\n",
        "### 3.   Read the zero, few-shot prompt from configuration\n",
        "### 4.   call Palm chat completion end point\n",
        "### 5. save the response as .feature file"
      ],
      "metadata": {
        "id": "l8jNcuNNvhSK"
      }
    },
    {
      "cell_type": "code",
      "source": [
        "# Specify the columns to iterate\n",
        "#step 1\n",
        "us_desc_column=configuration['us_desc_column']\n",
        "app_desc_column=configuration['app_desc_column']\n",
        "# read model, configuration parameters\n",
        "#step 2\n",
        "palm_model=configuration['palm_model']\n",
        "palm_temperature=configuration['palm_temperature']\n",
        "palm_top_p=configuration['palm_top_p']\n",
        "palm_max_tokens=configuration['palm_max_tokens']\n",
        "response_file_name_palm=configuration['response_feature_file_palm']\n",
        "few_shot_method=configuration['few_shot_method']\n",
        "zero_shot_method=configuration['zero_shot_method']\n",
        "output_csv_path=configuration['output_csv_path']\n",
        "#step 3\n",
        "system_prompt=configuration['system_prompt']\n",
        "for index, row in data_frame.iterrows():\n",
        "    user_story = row[us_desc_column]\n",
        "    story_context = row[app_desc_column]\n",
        "    #step 3\n",
        "    zero_shot_array=configuration['zero_shot']\n",
        "    zero_shot=' '.join(zero_shot_array)\n",
        "    few_shot_user_prompt_array=configuration['few_shot_user_prompt']\n",
        "    few_shot_user_prompt=' '.join(few_shot_user_prompt_array)\n",
        "    few_shot_assistant_prompt_array=configuration['few_shot_assistant_prompt']\n",
        "    few_shot_assistant_prompt=' '.join(few_shot_assistant_prompt_array)\n",
        "    examples=[\n",
        "    (few_shot_user_prompt, few_shot_assistant_prompt),\n",
        "    ]\n",
        "    user_message = zero_shot + user_story\n",
        "    #step 4\n",
        "    palm.configure()\n",
        "    response=palm.chat(messages=user_message, temperature=palm_temperature,\n",
        "            top_p=palm_top_p,\n",
        "            model=palm_model,\n",
        "           # max_tokens=palm_max_tokens,\n",
        "            examples=examples,\n",
        "            context=system_prompt)\n",
        "     # Extract the response\n",
        "    for message in response.messages:\n",
        "          if message['author'] == '1':\n",
        "            author_1_content = message['content']\n",
        "    output_text = author_1_content\n",
        "    timestamp = datetime.now().strftime(\"%Y%m%d_%H%M%S\")\n",
        "    #step 5\n",
        "    response_file_name = f\"US{index}_{timestamp}_{few_shot_method}_{response_file_name_palm}.feature\"\n",
        "    #step\n",
        "    # step 5\n",
        "    feature_file_path = output_csv_path+response_file_name\n",
        "    with open(feature_file_path, 'w', encoding='utf-8') as output_file:\n",
        "        output_file.write(output_text)\n",
        "    time.sleep(20)\n",
        "    # Write the output texts to a text file\n"
      ],
      "metadata": {
        "id": "yjb-_K4fv1wR"
      },
      "execution_count": null,
      "outputs": []
    }
  ]
}